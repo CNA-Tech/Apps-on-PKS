{
 "cells": [
  {
   "cell_type": "markdown",
   "metadata": {},
   "source": [
    "## Calculate Aggregate Stocks Revenue data for last 10 years\n",
    "## Organize Revenue Data by Industry into  Pivot Table \n",
    "\n",
    "##### JUST NEED To Calculate Growth between ALL years and then ADD Columns to the Table/DataFrame."
   ]
  },
  {
   "cell_type": "code",
   "execution_count": null,
   "metadata": {
    "collapsed": true
   },
   "outputs": [],
   "source": [
    "import numpy as np\n",
    "import csv\n",
    "import matplotlib.pyplot as plt\n",
    "from collections import Counter\n",
    "import datetime\n",
    "import pandas as pd"
   ]
  },
  {
   "cell_type": "markdown",
   "metadata": {},
   "source": [
    "## 1 - Set Variables"
   ]
  },
  {
   "cell_type": "code",
   "execution_count": null,
   "metadata": {
    "collapsed": true
   },
   "outputs": [],
   "source": [
    "# Market Cap Filters in MILLIONS\n",
    "mkt_cap_lower = 300\n",
    "mkt_cap_upper = 2000"
   ]
  },
  {
   "cell_type": "markdown",
   "metadata": {},
   "source": [
    "## 2 - Import Zacks 10K/10Q data from CSV into a dataframe object"
   ]
  },
  {
   "cell_type": "code",
   "execution_count": null,
   "metadata": {},
   "outputs": [],
   "source": [
    "zacks_df = pd.read_csv('data/05-09-17-ZACKS_FE.csv')[['ticker','comp_name','per_fisc_year','per_type','per_fisc_qtr','per_end_date','tot_revnu']]\n",
    "zacks_df=zacks_df.dropna(subset=['tot_revnu'])\n",
    "zacks_df[:4]"
   ]
  },
  {
   "cell_type": "markdown",
   "metadata": {},
   "source": [
    "## 3 - Import Zacks Industry CSV into a dataframe object"
   ]
  },
  {
   "cell_type": "code",
   "execution_count": null,
   "metadata": {},
   "outputs": [],
   "source": [
    "zacks_mt_df = pd.read_csv('data/05-09-17-ZACKS_MT.csv')[['ticker','zacks_x_sector_desc','zacks_m_ind_desc']]\n",
    "zacks_mt_df = zacks_mt_df.dropna(subset=['zacks_m_ind_desc','zacks_x_sector_desc'])\n",
    "zacks_mt_df[:3]"
   ]
  },
  {
   "cell_type": "markdown",
   "metadata": {},
   "source": [
    "## 4 - Merge the two Dataframes on ticker"
   ]
  },
  {
   "cell_type": "code",
   "execution_count": null,
   "metadata": {},
   "outputs": [],
   "source": [
    "zacks_merged_df=pd.merge(zacks_df,zacks_mt_df,on='ticker', how='left')   \n",
    "zacks_merged_df[:6]"
   ]
  },
  {
   "cell_type": "code",
   "execution_count": null,
   "metadata": {},
   "outputs": [],
   "source": [
    "# Create the Pivot Table\n",
    "ind_revenue_table=pd.pivot_table(zacks_merged_df, values='tot_revnu',index='zacks_m_ind_desc',columns=['per_fisc_year'],aggfunc=np.mean)\n",
    "ind_revenue_table"
   ]
  },
  {
   "cell_type": "code",
   "execution_count": null,
   "metadata": {},
   "outputs": [],
   "source": [
    "ind_revenue_table_change = ind_revenue_table.pct_change(axis=1)\n",
    "ind_revenue_table_change[:20]"
   ]
  },
  {
   "cell_type": "code",
   "execution_count": null,
   "metadata": {},
   "outputs": [],
   "source": [
    "ind_revenue_table_change = ind_revenue_table_change.sort_values([2017], ascending=[False]) \n",
    "ind_revenue_table_change"
   ]
  }
 ],
 "metadata": {
  "kernelspec": {
   "display_name": "Python 3",
   "language": "python",
   "name": "python3"
  },
  "language_info": {
   "codemirror_mode": {
    "name": "ipython",
    "version": 3
   },
   "file_extension": ".py",
   "mimetype": "text/x-python",
   "name": "python",
   "nbconvert_exporter": "python",
   "pygments_lexer": "ipython3",
   "version": "3.6.1"
  }
 },
 "nbformat": 4,
 "nbformat_minor": 2
}
